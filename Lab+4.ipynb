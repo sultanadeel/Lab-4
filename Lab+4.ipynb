{
 "cells": [
  {
   "cell_type": "markdown",
   "metadata": {},
   "source": [
    "# Using BeautifulSoup and Requests packages for Web Scraping"
   ]
  },
  {
   "cell_type": "code",
   "execution_count": 3,
   "metadata": {
    "scrolled": true
   },
   "outputs": [
    {
     "name": "stdout",
     "output_type": "stream",
     "text": [
      "Requirement already satisfied: bs4 in c:\\users\\muhammadadeel\\anaconda3\\lib\\site-packages\n",
      "Requirement already satisfied: beautifulsoup4 in c:\\users\\muhammadadeel\\anaconda3\\lib\\site-packages (from bs4)\n"
     ]
    }
   ],
   "source": [
    "! pip install bs4"
   ]
  },
  {
   "cell_type": "code",
   "execution_count": 4,
   "metadata": {
    "collapsed": true
   },
   "outputs": [],
   "source": [
    "import bs4\n",
    "import requests"
   ]
  },
  {
   "cell_type": "code",
   "execution_count": 5,
   "metadata": {
    "collapsed": true
   },
   "outputs": [],
   "source": [
    "import urllib.request "
   ]
  },
  {
   "cell_type": "code",
   "execution_count": 6,
   "metadata": {
    "collapsed": true
   },
   "outputs": [],
   "source": [
    "from bs4 import BeautifulSoup\n",
    "import csv\n",
    "import urllib"
   ]
  },
  {
   "cell_type": "markdown",
   "metadata": {},
   "source": [
    "# Using a writer function to convert the contents from websites to a csv file"
   ]
  },
  {
   "cell_type": "code",
   "execution_count": 66,
   "metadata": {
    "collapsed": true
   },
   "outputs": [],
   "source": [
    "x = open ('msdegrees12.csv', 'w', newline = '')\n",
    "writer = csv.writer(x)"
   ]
  },
  {
   "cell_type": "markdown",
   "metadata": {},
   "source": [
    "# Web scraping Santa Clara University url and accessing the HTML content of MS Degrees Comparison table"
   ]
  },
  {
   "cell_type": "markdown",
   "metadata": {},
   "source": [
    "# Source 1 : https://www.scu.edu/business/ms-degrees/ms-comparison/"
   ]
  },
  {
   "cell_type": "code",
   "execution_count": 57,
   "metadata": {
    "collapsed": true
   },
   "outputs": [],
   "source": [
    "soup = BeautifulSoup (urllib.request.urlopen(\"https://www.scu.edu/business/ms-degrees/ms-comparison//\").read(), 'lxml')"
   ]
  },
  {
   "cell_type": "markdown",
   "metadata": {},
   "source": [
    "# Reading the rows and columns of the HTML table and removing tags and spaces "
   ]
  },
  {
   "cell_type": "code",
   "execution_count": 67,
   "metadata": {},
   "outputs": [
    {
     "name": "stdout",
     "output_type": "stream",
     "text": [
      "['', 'MS Business Analytics', 'MS Finance', 'MS Information Systems', 'MS Supply Chain Management']\n",
      "['Application Deadlines', 'May 1 International applicant final deadline (Fall)\\nJune 1\\xa0Final Deadline (Fall)\\nApplications received after final deadline may be considered on a case-by-case basis', 'May 1 International applicant final deadline (Fall)\\nJune 1\\xa0Final Deadline (Fall)\\nApplications received after final deadline may be considered on a case-by-case basis', 'May 1 International applicant final deadline (Fall)\\nJune 1 Final Deadline (Fall)\\nOctober 15th Round 1 Deadline & International applicant final deadline (Winter)\\nNovember 1 Final Deadline (Winter)\\nJanuary 15th Round 1 Deadline & International applicant final deadline (Spring)\\nFebruary 1st Final Deadline (Spring)', 'May 1 International applicant final deadline (Fall)\\nJune\\xa01 Final Deadline (Fall)\\nApplications received after final deadline may be considered on a case-by-case basis']\n",
      "['Academic Year Begins', 'Fall (September)', 'Fall (September)', 'Fall, Winter & Spring', 'Fall (September)']\n",
      "['Program Length', '15 months Full-time and flexible 24+ month part-time program', '12, 15 & 18-month full-time and flexible 24+ month part-time program', '24 month full-time program and flexible 36 month part-time program.', '15 month full-time and flexible 24+ month part-time program.']\n",
      "['Program Flexibility', 'No; cohorted', 'No; cohorted', 'Yes', 'No; cohorted']\n",
      "['Eligibility', 'U.S. citizens, permanent residents, H1/H4, and F1 visa holders', 'U.S. citizens, permanent residents, H1/H4, and F1 visa holders', 'U.S. citizens, permanent residents, H1/H4, and F1 visa holders', 'U.S. citizens, permanent residents, H1/H4, and F1 visa holders']\n",
      "['Work Experience Required', '2+ years preferred, not required', 'Not required', '3+ years preferred, not required', 'Not required']\n",
      "['Prerequisites', \"College-level calculus and statistics, 4-year bachelor's degree\", \"College-level calculus, 4-year bachelor's degree\", \"College-level statistics, 4-year bachelor's degree, C or C++ programming language\", \"College-level calculus, 4-year bachelor's degree\"]\n",
      "['GMAT or GRE', 'Required', 'Required', 'Required', 'Required']\n",
      "['TOEFL', 'Required if first language is not English; may be waived under special circumstances.', 'Required if first language is not English; may be waived under special circumstances.', 'Required if first language is not English; may be waived under special circumstances.', 'Required if first language is not English; may be waived under special circumstances.']\n",
      "['Average course\\xa0size', '25', '25', '30', '25']\n",
      "['Course\\xa0meeting days', 'M/W, T/T evenings; potentially Saturdays', 'M/W, T/T evenings; potentially Saturdays', 'M/W, T/T evenings; potentially Saturdays', 'M/W, T/T evenings; potentially Saturdays']\n",
      "['Tuition (2016-2017)', '$1,124/unit\\xa045+ units', '$1,124/unit\\xa049 units', '$1,022/unit\\xa051-54 units', '$1,124/unit\\xa050+ units']\n",
      "['Additional information', 'STEM approved curriculum.', 'Optional internship program', 'STEM Exension program', 'STEM approved.']\n",
      "['Application', 'Open online application', 'Open online application', 'Open online application', 'Open online application']\n"
     ]
    }
   ],
   "source": [
    "tbody = soup('table',{\"class\":\"table\"})[0].find_all('tr')\n",
    "for row in tbody:\n",
    "    cols = row.findChildren(recursive=False)\n",
    "    cols = [ele.text.strip() for ele in cols]\n",
    "    writer.writerow(cols)\n",
    "    print(cols)"
   ]
  },
  {
   "cell_type": "markdown",
   "metadata": {
    "collapsed": true
   },
   "source": [
    "# Reading the Heading 1 and paragraph of the webpage"
   ]
  },
  {
   "cell_type": "code",
   "execution_count": 59,
   "metadata": {},
   "outputs": [
    {
     "data": {
      "text/plain": [
       "'MS Degrees'"
      ]
     },
     "execution_count": 59,
     "metadata": {},
     "output_type": "execute_result"
    }
   ],
   "source": [
    "soup.h1.text"
   ]
  },
  {
   "cell_type": "code",
   "execution_count": 60,
   "metadata": {},
   "outputs": [
    {
     "data": {
      "text/plain": [
       "<p>Compare our demanding, full-time MS programs in Business Analytics, Finance, Information Systems, Supply Chain Management. In just a year, your career could be heading in a new direction.</p>"
      ]
     },
     "execution_count": 60,
     "metadata": {},
     "output_type": "execute_result"
    }
   ],
   "source": [
    "soup.p"
   ]
  },
  {
   "cell_type": "markdown",
   "metadata": {},
   "source": [
    "# Using prettify function to print the entire HTML code"
   ]
  },
  {
   "cell_type": "code",
   "execution_count": 62,
   "metadata": {},
   "outputs": [
    {
     "data": {
      "text/plain": [
       "<title>MS Comparison - Leavey School of Business - Santa Clara University</title>"
      ]
     },
     "execution_count": 62,
     "metadata": {},
     "output_type": "execute_result"
    }
   ],
   "source": [
    "soup.title"
   ]
  },
  {
   "cell_type": "code",
   "execution_count": 63,
   "metadata": {},
   "outputs": [
    {
     "data": {
      "text/plain": [
       "<a class=\"sr-only sr-only-focusable\" href=\"#content\">Skip to main content</a>"
      ]
     },
     "execution_count": 63,
     "metadata": {},
     "output_type": "execute_result"
    }
   ],
   "source": [
    "soup.a"
   ]
  },
  {
   "cell_type": "markdown",
   "metadata": {},
   "source": [
    "# Find all HTML Tags using find_all() function"
   ]
  },
  {
   "cell_type": "code",
   "execution_count": 18,
   "metadata": {
    "collapsed": true
   },
   "outputs": [],
   "source": [
    "import pandas as pd"
   ]
  },
  {
   "cell_type": "markdown",
   "metadata": {},
   "source": [
    "# Web scraping Santa Clara University url and accessing the HTML content of SCU MS Program Demographics"
   ]
  },
  {
   "cell_type": "markdown",
   "metadata": {},
   "source": [
    "# Source 2: https://www.scu.edu/business/ms-information-systems/prospective-students/class-profile"
   ]
  },
  {
   "cell_type": "code",
   "execution_count": 19,
   "metadata": {
    "collapsed": true
   },
   "outputs": [],
   "source": [
    "y = open ('misprofile', 'w', newline = '')\n",
    "writer = csv.writer(y)"
   ]
  },
  {
   "cell_type": "code",
   "execution_count": 20,
   "metadata": {
    "collapsed": true
   },
   "outputs": [],
   "source": [
    "page = requests.get(\"https://www.scu.edu/business/ms-information-systems/prospective-students/class-profile\")\n",
    "soup1 = BeautifulSoup(page.text, 'html.parser')\n"
   ]
  },
  {
   "cell_type": "code",
   "execution_count": 21,
   "metadata": {
    "scrolled": true
   },
   "outputs": [
    {
     "data": {
      "text/plain": [
       "<h1><span></span>MS in Information Systems</h1>"
      ]
     },
     "execution_count": 21,
     "metadata": {},
     "output_type": "execute_result"
    }
   ],
   "source": [
    "soup1.h1"
   ]
  },
  {
   "cell_type": "markdown",
   "metadata": {},
   "source": [
    "# Accessing the div class to retrieve the desired contents"
   ]
  },
  {
   "cell_type": "code",
   "execution_count": 22,
   "metadata": {
    "collapsed": true
   },
   "outputs": [
    {
     "name": "stdout",
     "output_type": "stream",
     "text": [
      "<div class=\"col-md-6\">\n",
      " <div class=\"one-column news module\">\n",
      "  <ul class=\"media-list\">\n",
      "   <li class=\"media\">\n",
      "    <div class=\"media-left\">\n",
      "     <span class=\"thumbnail\">\n",
      "      <img alt=\"Graphics crowd concept\" class=\"media-object\" src=\"/media/leavey-school-of-business/academics-/graphics-gifs-etc/crowd-adapt-red-sq-crop-238x238.gif\"/>\n",
      "     </span>\n",
      "    </div>\n",
      "    <div class=\"media-body\">\n",
      "     <h4 class=\"media-heading\">\n",
      "      Class Demographics\n",
      "     </h4>\n",
      "     <p>\n",
      "      <strong>\n",
      "       Women\n",
      "      </strong>\n",
      "      : 51%\n",
      "     </p>\n",
      "     <p>\n",
      "      <strong>\n",
      "       Average age\n",
      "      </strong>\n",
      "      : 26\n",
      "     </p>\n",
      "     <p>\n",
      "      <strong>\n",
      "       Multilingual\n",
      "      </strong>\n",
      "      :  89%\n",
      "     </p>\n",
      "    </div>\n",
      "   </li>\n",
      "  </ul>\n",
      " </div>\n",
      " <div class=\"one-column news module\">\n",
      "  <ul class=\"media-list\">\n",
      "   <li class=\"media\">\n",
      "    <div class=\"media-left\">\n",
      "     <span class=\"thumbnail\">\n",
      "      <img alt=\"Graduation\" class=\"media-object\" src=\"/media/leavey-school-of-business/academics-/graphics-gifs-etc/grads-200x200.gif\"/>\n",
      "     </span>\n",
      "    </div>\n",
      "    <div class=\"media-body\">\n",
      "     <h4 class=\"media-heading\">\n",
      "      Academics\n",
      "     </h4>\n",
      "     <p>\n",
      "      <strong>\n",
      "       Average undergraduate GPA\n",
      "      </strong>\n",
      "      3.2\n",
      "     </p>\n",
      "     <p>\n",
      "      <strong>\n",
      "       Average GMAT\n",
      "      </strong>\n",
      "      650\n",
      "     </p>\n",
      "     <p>\n",
      "      <strong>\n",
      "       Average GRE\n",
      "      </strong>\n",
      "      308\n",
      "     </p>\n",
      "     <p>\n",
      "      <strong>\n",
      "       % holding graduate degrees\n",
      "      </strong>\n",
      "      20%\n",
      "     </p>\n",
      "    </div>\n",
      "   </li>\n",
      "  </ul>\n",
      " </div>\n",
      " <div class=\"one-column news module\">\n",
      "  <ul class=\"media-list\">\n",
      "   <li class=\"media\">\n",
      "    <div class=\"media-left\">\n",
      "     <span class=\"thumbnail\">\n",
      "      <img alt=\"Graphics work concept\" class=\"media-object\" src=\"/media/leavey-school-of-business/academics-/graphics-gifs-etc/work-200x200.gif\"/>\n",
      "     </span>\n",
      "    </div>\n",
      "    <div class=\"media-body\">\n",
      "     <h4 class=\"media-heading\">\n",
      "      Professional Profile\n",
      "     </h4>\n",
      "     <p>\n",
      "      <strong>\n",
      "       Average work experience\n",
      "      </strong>\n",
      "      :  2.3 years\n",
      "     </p>\n",
      "     <p>\n",
      "      <strong>\n",
      "       Employed at time of admission\n",
      "      </strong>\n",
      "      : 66%\n",
      "     </p>\n",
      "     <p>\n",
      "      <strong>\n",
      "       Selected hiring companies\n",
      "      </strong>\n",
      "      :  Apple, Cisco, Ernst &amp; Young, Facebook, NetApp, NVIDIA, Symantec, Twitter\n",
      "     </p>\n",
      "    </div>\n",
      "   </li>\n",
      "  </ul>\n",
      " </div>\n",
      "</div>\n",
      "\n"
     ]
    }
   ],
   "source": [
    "msis_profile_list = soup1.find(class_='col-md-6')    \n",
    "print(msis_profile_list.prettify())"
   ]
  },
  {
   "cell_type": "markdown",
   "metadata": {},
   "source": [
    "# Removing the HTML tags and retrieving only p tags"
   ]
  },
  {
   "cell_type": "code",
   "execution_count": 23,
   "metadata": {},
   "outputs": [
    {
     "name": "stdout",
     "output_type": "stream",
     "text": [
      "<p>\n",
      " <strong>\n",
      "  Women\n",
      " </strong>\n",
      " : 51%\n",
      "</p>\n",
      "\n",
      "<p>\n",
      " <strong>\n",
      "  Average age\n",
      " </strong>\n",
      " : 26\n",
      "</p>\n",
      "\n",
      "<p>\n",
      " <strong>\n",
      "  Multilingual\n",
      " </strong>\n",
      " :  89%\n",
      "</p>\n",
      "<p>\n",
      " <strong>\n",
      "  Average undergraduate GPA\n",
      " </strong>\n",
      " 3.2\n",
      "</p>\n",
      "\n",
      "<p>\n",
      " <strong>\n",
      "  Average GMAT\n",
      " </strong>\n",
      " 650\n",
      "</p>\n",
      "\n",
      "<p>\n",
      " <strong>\n",
      "  Average GRE\n",
      " </strong>\n",
      " 308\n",
      "</p>\n",
      "\n",
      "<p>\n",
      " <strong>\n",
      "  % holding graduate degrees\n",
      " </strong>\n",
      " 20%\n",
      "</p>\n",
      "<p>\n",
      " <strong>\n",
      "  Average work experience\n",
      " </strong>\n",
      " :  2.3 years\n",
      "</p>\n",
      "\n",
      "<p>\n",
      " <strong>\n",
      "  Employed at time of admission\n",
      " </strong>\n",
      " : 66%\n",
      "</p>\n",
      "\n",
      "<p>\n",
      " <strong>\n",
      "  Selected hiring companies\n",
      " </strong>\n",
      " :  Apple, Cisco, Ernst &amp; Young, Facebook, NetApp, NVIDIA, Symantec, Twitter\n",
      "</p>\n"
     ]
    }
   ],
   "source": [
    "msis_profile_list_items = msis_profile_list.find_all('p')\n",
    "for msis_profile in msis_profile_list_items:\n",
    "    print(msis_profile.prettify())"
   ]
  },
  {
   "cell_type": "code",
   "execution_count": 24,
   "metadata": {},
   "outputs": [
    {
     "name": "stdout",
     "output_type": "stream",
     "text": [
      "['Women']\n",
      "['Average age']\n",
      "['Multilingual']\n",
      "['Average undergraduate GPA']\n",
      "['Average GMAT']\n",
      "['Average GRE']\n",
      "['% holding graduate degrees']\n",
      "['Average work experience']\n",
      "['Employed at time of admission']\n",
      "['Selected hiring companies']\n"
     ]
    }
   ],
   "source": [
    "for row in msis_profile_list_items:\n",
    "    cols = row.findChildren()\n",
    "    cols = [ele.text.strip() for ele in cols]\n",
    "    writer.writerow(cols)\n",
    "    print(cols)"
   ]
  },
  {
   "cell_type": "markdown",
   "metadata": {},
   "source": [
    "# Web scraping Santa Clara University Linkedin page and accessing the HTML content of SCU Alumni Demographics"
   ]
  },
  {
   "cell_type": "code",
   "execution_count": 25,
   "metadata": {
    "scrolled": true
   },
   "outputs": [
    {
     "name": "stdout",
     "output_type": "stream",
     "text": [
      "200\n"
     ]
    }
   ],
   "source": [
    "link = requests.get(\"https://www.linkedin.com/school/10458916/alumni/\")\n",
    "print(link.status_code)\n",
    "soup2 = BeautifulSoup(link.text, 'html.parser')\n",
    "print(soup2)"
   ]
  },
  {
   "cell_type": "code",
   "execution_count": 41,
   "metadata": {},
   "outputs": [],
   "source": [
    "#soup2.p\n",
    "sculinkedin = soup2.find('container',class_='artdeco-carousel-container ember-view')\n"
   ]
  },
  {
   "cell_type": "code",
   "execution_count": 45,
   "metadata": {
    "collapsed": true
   },
   "outputs": [
    {
     "name": "stdout",
     "output_type": "stream",
     "text": [
      "None\n"
     ]
    },
    {
     "ename": "AttributeError",
     "evalue": "'NoneType' object has no attribute 'find_all'",
     "output_type": "error",
     "traceback": [
      "\u001b[1;31m---------------------------------------------------------------------------\u001b[0m",
      "\u001b[1;31mAttributeError\u001b[0m                            Traceback (most recent call last)",
      "\u001b[1;32m<ipython-input-45-da3ddd4e0a6d>\u001b[0m in \u001b[0;36m<module>\u001b[1;34m()\u001b[0m\n\u001b[0;32m      1\u001b[0m \u001b[0msculinkedin\u001b[0m \u001b[1;33m=\u001b[0m \u001b[0msoup2\u001b[0m\u001b[1;33m.\u001b[0m\u001b[0mfind\u001b[0m\u001b[1;33m(\u001b[0m\u001b[1;34m'container'\u001b[0m\u001b[1;33m,\u001b[0m\u001b[0mclass_\u001b[0m\u001b[1;33m=\u001b[0m\u001b[1;34m'artdeco-carousel-container ember-view'\u001b[0m\u001b[1;33m)\u001b[0m\u001b[1;33m\u001b[0m\u001b[0m\n\u001b[0;32m      2\u001b[0m \u001b[0mprint\u001b[0m\u001b[1;33m(\u001b[0m\u001b[0msculinkedin\u001b[0m\u001b[1;33m)\u001b[0m\u001b[1;33m\u001b[0m\u001b[0m\n\u001b[1;32m----> 3\u001b[1;33m \u001b[0msculinkedin_list\u001b[0m \u001b[1;33m=\u001b[0m \u001b[0msculinkedin\u001b[0m\u001b[1;33m.\u001b[0m\u001b[0mfind_all\u001b[0m\u001b[1;33m(\u001b[0m\u001b[1;34m'strong'\u001b[0m\u001b[1;33m,\u001b[0m\u001b[1;34m'span'\u001b[0m\u001b[1;33m)\u001b[0m\u001b[1;33m\u001b[0m\u001b[0m\n\u001b[0m",
      "\u001b[1;31mAttributeError\u001b[0m: 'NoneType' object has no attribute 'find_all'"
     ]
    }
   ],
   "source": [
    "sculinkedin = soup2.find('container',class_='artdeco-carousel-container ember-view')\n",
    "print(sculinkedin)\n",
    "sculinkedin_list = sculinkedin.find_all('strong','span')\n"
   ]
  },
  {
   "cell_type": "code",
   "execution_count": 32,
   "metadata": {},
   "outputs": [
    {
     "name": "stderr",
     "output_type": "stream",
     "text": [
      "C:\\Users\\MuhammadAdeel\\Anaconda3\\lib\\site-packages\\requests\\packages\\urllib3\\connectionpool.py:852: InsecureRequestWarning: Unverified HTTPS request is being made. Adding certificate verification is strongly advised. See: https://urllib3.readthedocs.io/en/latest/advanced-usage.html#ssl-warnings\n",
      "  InsecureRequestWarning)\n"
     ]
    }
   ],
   "source": [
    "page1 = requests.get(\"https://www.linkedin.com/school/10458916/alumni/\", auth=('[sultanadeel]','[Batman1980]'), verify=False)"
   ]
  },
  {
   "cell_type": "markdown",
   "metadata": {},
   "source": [
    "# Accessing the LinkedIn url using my username & password"
   ]
  },
  {
   "cell_type": "markdown",
   "metadata": {},
   "source": [
    "Source 2: https://www.linkedin.com/school/10458916/alumni/"
   ]
  },
  {
   "cell_type": "code",
   "execution_count": 46,
   "metadata": {},
   "outputs": [
    {
     "name": "stderr",
     "output_type": "stream",
     "text": [
      "C:\\Users\\MuhammadAdeel\\Anaconda3\\lib\\site-packages\\bs4\\__init__.py:181: UserWarning: No parser was explicitly specified, so I'm using the best available HTML parser for this system (\"lxml\"). This usually isn't a problem, but if you run this code on another system, or in a different virtual environment, it may use a different parser and behave differently.\n",
      "\n",
      "The code that caused this warning is on line 193 of the file C:\\Users\\MuhammadAdeel\\Anaconda3\\lib\\runpy.py. To get rid of this warning, change code that looks like this:\n",
      "\n",
      " BeautifulSoup(YOUR_MARKUP})\n",
      "\n",
      "to this:\n",
      "\n",
      " BeautifulSoup(YOUR_MARKUP, \"lxml\")\n",
      "\n",
      "  markup_type=markup_type))\n"
     ]
    }
   ],
   "source": [
    "client = requests.Session()\n",
    "\n",
    "HOMEPAGE_URL = 'https://www.linkedin.com'\n",
    "LOGIN_URL = 'https://www.linkedin.com/uas/login-submit'\n",
    "\n",
    "html = client.get(HOMEPAGE_URL).content\n",
    "soup = BeautifulSoup(html)\n",
    "csrf = soup.find(id=\"loginCsrfParam-login\")['value']\n",
    "\n",
    "login_information = {\n",
    "    'session_key':'sultanadeel',\n",
    "    'session_password':'Batman1980',\n",
    "    'loginCsrfParam': csrf,\n",
    "}\n",
    "\n",
    "client.post(LOGIN_URL, data=login_information)\n",
    "\n",
    "page = client.get('https://www.linkedin.com/school/10458916/alumni/')\n"
   ]
  },
  {
   "cell_type": "code",
   "execution_count": 35,
   "metadata": {},
   "outputs": [
    {
     "name": "stdout",
     "output_type": "stream",
     "text": [
      "b'<html><head>\\n<script type=\"text/javascript\">\\nwindow.onload = function() {\\n  // Parse the tracking code from cookies.\\n  var trk = \"bf\";\\n  var trkInfo = \"bf\";\\n  var cookies = document.cookie.split(\"; \");\\n  for (var i = 0; i < cookies.length; ++i) {\\n    if ((cookies[i].indexOf(\"trkCode=\") == 0) && (cookies[i].length > 8)) {\\n      trk = cookies[i].substring(8);\\n    }\\n    else if ((cookies[i].indexOf(\"trkInfo=\") == 0) && (cookies[i].length > 8)) {\\n      trkInfo = cookies[i].substring(8);\\n    }\\n  }\\n\\n  if (window.location.protocol == \"http:\") {\\n    // If \"sl\" cookie is set, redirect to https.\\n    for (var i = 0; i < cookies.length; ++i) {\\n      if ((cookies[i].indexOf(\"sl=\") == 0) && (cookies[i].length > 3)) {\\n        window.location.href = \"https:\" + window.location.href.substring(window.location.protocol.length);\\n        return;\\n      }\\n    }\\n  }\\n\\n  // Get the new domain. For international domains such as\\n  // fr.linkedin.com, we convert it to www.linkedin.com\\n  var domain = \"www.linkedin.com\";\\n  if (domain != location.host) {\\n    var subdomainIndex = location.host.indexOf(\".linkedin\");\\n    if (subdomainIndex != -1) {\\n      domain = \"www\" + location.host.substring(subdomainIndex);\\n    }\\n  }\\n\\n  window.location.href = \"https://\" + domain + \"/authwall?trk=\" + trk + \"&trkInfo=\" + trkInfo +\\n      \"&originalReferer=\" + document.referrer.substr(0, 200) +\\n      \"&sessionRedirect=\" + encodeURIComponent(window.location.href);\\n}\\n</script>\\n</head></html>'\n"
     ]
    }
   ],
   "source": [
    "print(page.content)"
   ]
  },
  {
   "cell_type": "code",
   "execution_count": 47,
   "metadata": {
    "collapsed": true
   },
   "outputs": [],
   "source": [
    "soup2 = BeautifulSoup(page.text, 'html.parser')\n",
    "soup2.h1"
   ]
  },
  {
   "cell_type": "code",
   "execution_count": 48,
   "metadata": {},
   "outputs": [],
   "source": [
    "#soup2 = BeautifulSoup(page.text, 'html.parser')\n",
    "\n",
    "#soup2 = BeautifulSoup(page.content)\n",
    "sculinkedin = soup2.find(class_='artdeco-carousel-container ember-view')\n"
   ]
  },
  {
   "cell_type": "code",
   "execution_count": 69,
   "metadata": {
    "collapsed": true
   },
   "outputs": [],
   "source": [
    "z = open ('scualumni.csv', 'w', newline = '')\n",
    "writer3 = csv.writer(z)"
   ]
  },
  {
   "cell_type": "markdown",
   "metadata": {},
   "source": [
    "# Tableau Visual 1"
   ]
  },
  {
   "cell_type": "markdown",
   "metadata": {},
   "source": [
    "https://public.tableau.com/views/Lab4_50/MSComparison?:embed=y&:display_count=yes&publish=yes"
   ]
  },
  {
   "cell_type": "markdown",
   "metadata": {},
   "source": [
    "In above tableau visual 1, i used webscraping to convert HTML table using python code and then saving it to a csv file, later\n",
    "using Tableau to generate visual . The visual 1 is a packed bubbles visual which shows various criteria for SCU MS program\n",
    "admissions and the requirements for prospective students. The advantages of the visual 1 is that:\n",
    "    - It is easy to read and interpret the program requirements\n",
    "    - It is easy for the audience to compare the different MS programs offered by SCU\n",
    "    - Also, the viewers can identify the major prerequisites for securing admission \n",
    "The disadvantage of visual 1 is that it requires effort to identify the MSIS program requirements. If we have more historical\n",
    "data of students, we can identify patterns and relationships in choosing MS programs\n",
    "    "
   ]
  },
  {
   "cell_type": "markdown",
   "metadata": {},
   "source": [
    "# Tableau Visual 2"
   ]
  },
  {
   "cell_type": "markdown",
   "metadata": {},
   "source": [
    "https://public.tableau.com/profile/muhammad.adeel3420#!/vizhome/Lab4_50/MSISStudentProfile"
   ]
  },
  {
   "cell_type": "markdown",
   "metadata": {},
   "source": [
    "The tableau visual 2 is prepared using HTML code and then performing web scraping using beautifulsoup python library. \n",
    "This visual shows the student profiles of SCU MSIS candidates. This visual is very helpful in analyzing the student demographics \n",
    "and identifying important measures such as Average age, Average GMAT, work experience and gender of the students enrolling\n",
    "in the SCU MSIS program. The advantages are readibility, clarity and ease of use for the audience"
   ]
  },
  {
   "cell_type": "markdown",
   "metadata": {},
   "source": [
    "# Tableau Visual 3"
   ]
  },
  {
   "cell_type": "markdown",
   "metadata": {},
   "source": [
    "https://public.tableau.com/views/Lab4_50/SCUAlumniSkillset?:embed=y&:display_count=yes"
   ]
  },
  {
   "cell_type": "markdown",
   "metadata": {},
   "source": [
    "The visual 3 shows the profile of SCU alumni currently working in the industry. This visual shows the top skills of the alumni \n",
    "in various business areas. The visual is clear, easy to read and identifies the measure in terms of no.of SCU alumni possessing\n",
    "the skill identified in the bubble represented by the Tableau visual. This visual is very helpful for the audience as it shows that\n",
    "which skills are currently in demand and therefore practised in their professions by the alumni"
   ]
  },
  {
   "cell_type": "markdown",
   "metadata": {},
   "source": [
    "# Tableau Visual 4"
   ]
  },
  {
   "cell_type": "markdown",
   "metadata": {},
   "source": [
    "https://public.tableau.com/views/Lab4_50/SCUAlumniProfession?:embed=y&:display_count=yes"
   ]
  },
  {
   "cell_type": "markdown",
   "metadata": {},
   "source": [
    "The visual 4 shows the professions of SCU alumni in terms of which industry they are currently working in. This visual is very \n",
    "readable and easy to understand in terms of identifying the industries where alumni are currently working. The visual is a \n",
    "horizontal bars graph and the colours used identify the industries of the alumni. However, if we manage to get more data on \n",
    "the SCU alumni such as year graduated, then we can have a deeper insight about their work experiences and related industries\n",
    "of profession. We can also identfiy thorugh this if any of them switched to a different career over their work history since\n",
    "graduating from Santa Clara University"
   ]
  },
  {
   "cell_type": "markdown",
   "metadata": {},
   "source": [
    "# Tableau Visual 5"
   ]
  },
  {
   "cell_type": "markdown",
   "metadata": {},
   "source": [
    "https://public.tableau.com/views/Lab4_50/SCUAlumniResidence?:embed=y&:display_count=yes"
   ]
  },
  {
   "cell_type": "markdown",
   "metadata": {},
   "source": [
    "The tableau visual 5 is a pie chart to identify in whcih locations SCU alumni are currently living. The pie chart in this\n",
    "scenario is very useful and easily readable in pointing out the location and the way alumni are scattered. Using colours, we can\n",
    "better reflect which location is the majority and which only reflect a small portion of the pie chart"
   ]
  },
  {
   "cell_type": "markdown",
   "metadata": {},
   "source": [
    "https://public.tableau.com/views/Lab4_50/Dashboard1?:embed=y&:display_count=yes"
   ]
  }
 ],
 "metadata": {
  "kernelspec": {
   "display_name": "Python 3",
   "language": "python",
   "name": "python3"
  },
  "language_info": {
   "codemirror_mode": {
    "name": "ipython",
    "version": 3
   },
   "file_extension": ".py",
   "mimetype": "text/x-python",
   "name": "python",
   "nbconvert_exporter": "python",
   "pygments_lexer": "ipython3",
   "version": "3.6.1"
  }
 },
 "nbformat": 4,
 "nbformat_minor": 2
}
